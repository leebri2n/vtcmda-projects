{
  "cells": [
    {
      "cell_type": "code",
      "execution_count": null,
      "metadata": {
        "scrolled": true,
        "id": "qU58nGMHeRpH",
        "cellView": "code"
      },
      "outputs": [],
      "source": [
        "%%capture\n",
        "import sys\n",
        "\n",
        "!python -m pip install TextBlob\n",
        "!python -m pip install newspaper3k\n",
        "!python -m pip install preprocessor\n",
        "!python -m pip install Twython\n",
        "!python -m pip install tweepy\n",
        "!python -m pip install os\n",
        "!python -m pip install nltk\n",
        "!python -m pip install tensorflow\n",
        "!python -m pip install contractions\n",
        "!python -m pip install autocorrect\n",
        "!python -m pip install betterspy\n",
        "!python -m pip install tensorflow\n",
        "!python -m pip install cvxopt import matrix, solvers"
      ]
    },
    {
      "cell_type": "code",
      "execution_count": null,
      "metadata": {
        "id": "qQqIiDA5eRpI",
        "colab": {
          "base_uri": "https://localhost:8080/"
        },
        "outputId": "840a03f9-ccc3-465e-eb0e-f619c02fab93"
      },
      "outputs": [
        {
          "output_type": "stream",
          "name": "stdout",
          "text": [
            "[nltk_data] Downloading package punkt to /root/nltk_data...\n",
            "[nltk_data]   Unzipping tokenizers/punkt.zip.\n",
            "[nltk_data] Downloading package stopwords to /root/nltk_data...\n",
            "[nltk_data]   Unzipping corpora/stopwords.zip.\n",
            "[nltk_data] Downloading package averaged_perceptron_tagger to\n",
            "[nltk_data]     /root/nltk_data...\n",
            "[nltk_data]   Unzipping taggers/averaged_perceptron_tagger.zip.\n",
            "[nltk_data] Downloading package wordnet to /root/nltk_data...\n",
            "[nltk_data]   Unzipping corpora/wordnet.zip.\n"
          ]
        }
      ],
      "source": [
        "# Load packages\n",
        "import os\n",
        "import time\n",
        "\n",
        "from textblob import TextBlob\n",
        "from newspaper import Article\n",
        "import nltk\n",
        "import re\n",
        "\n",
        "import requests\n",
        "import preprocessor as pre\n",
        "import csv\n",
        "import json\n",
        "import string\n",
        "from string import punctuation\n",
        "from nltk.corpus import stopwords\n",
        "from nltk.corpus import wordnet\n",
        "from nltk.tokenize import sent_tokenize\n",
        "from nltk.tokenize import word_tokenize\n",
        "from nltk.stem import WordNetLemmatizer\n",
        "from nltk.stem import SnowballStemmer\n",
        "from contractions import contractions_dict\n",
        "from autocorrect import Speller\n",
        "import seaborn as sns\n",
        "import pylab as pl\n",
        "nltk.download('punkt')\n",
        "nltk.download('stopwords')\n",
        "nltk.download('averaged_perceptron_tagger')\n",
        "nltk.download('wordnet')\n",
        "\n",
        "import numpy as np\n",
        "import pandas as pd\n",
        "import sklearn\n",
        "import tensorflow\n",
        "\n",
        "import tweepy\n",
        "from tweepy import OAuthHandler\n",
        "from twython import Twython"
      ]
    },
    {
      "cell_type": "markdown",
      "source": [
        "# Data Setup"
      ],
      "metadata": {
        "id": "STD6K4v-0PHD"
      }
    },
    {
      "cell_type": "code",
      "source": [
        "# Handling directories\n",
        "from google.colab import drive\n",
        "drive.mount('/content/drive')\n",
        "df_movie = pd.read_csv('/content/drive/My Drive/Spring 2022/CS4824/finalproj/movies/movie.csv')\n",
        "\n",
        "#Append the directory to your python path\n",
        "prefix = '/content/drive/My Drive/'\n",
        "# modify customized_path\n",
        "customized_path = 'Spring 2022/CS4824/finalproj/'\n",
        "data_folder = 'movies/'\n",
        "sys_path = prefix + customized_path + data_folder\n",
        "sys.path.append(sys_path)\n",
        "print(sys.path)\n",
        "\n",
        "data_filename = os.path.join(sys_path, 'movie.csv')\n",
        "print('Path to training data: {}'.format(data_filename))\n",
        "#fn_test = os.path.join(sys_path, './')\n",
        "#print('Path to testing data: {}'.format(fn_test))"
      ],
      "metadata": {
        "id": "QBeZjm1ZAW-U",
        "colab": {
          "base_uri": "https://localhost:8080/"
        },
        "outputId": "10f4b167-683e-46d9-d3db-68686b5ca418"
      },
      "execution_count": null,
      "outputs": [
        {
          "output_type": "stream",
          "name": "stdout",
          "text": [
            "Mounted at /content/drive\n",
            "['', '/content', '/env/python', '/usr/lib/python37.zip', '/usr/lib/python3.7', '/usr/lib/python3.7/lib-dynload', '/usr/local/lib/python3.7/dist-packages', '/usr/lib/python3/dist-packages', '/usr/local/lib/python3.7/dist-packages/IPython/extensions', '/root/.ipython', '/content/drive/My Drive/Spring 2022/CS4824/finalproj/movies/']\n",
            "Path to training data: /content/drive/My Drive/Spring 2022/CS4824/finalproj/movies/movie.csv\n"
          ]
        }
      ]
    },
    {
      "cell_type": "code",
      "source": [
        "#Loading in and splitting training and test data\n",
        "df_orig = pd.read_csv(data_filename)\n",
        "df_orig = df_orig.drop(labels=range(20001, 40000))\n",
        "\n",
        "print(df_orig)"
      ],
      "metadata": {
        "id": "Ct9kufztEt1C",
        "colab": {
          "base_uri": "https://localhost:8080/"
        },
        "outputId": "bb543950-ab2c-4ef5-bf2b-e1579e17df93"
      },
      "execution_count": null,
      "outputs": [
        {
          "output_type": "stream",
          "name": "stdout",
          "text": [
            "                                                    text  label\n",
            "0      I grew up (b. 1965) watching and loving the Th...      0\n",
            "1      When I put this movie in my DVD player, and sa...      0\n",
            "2      Why do people who do not know what a particula...      0\n",
            "3      Even though I have great interest in Biblical ...      0\n",
            "4      Im a die hard Dads Army fan and nothing will e...      1\n",
            "...                                                  ...    ...\n",
            "19996  \"White Noise\" had potential to be one of the m...      0\n",
            "19997  The Five Deadly Venoms is a great kung-fu acti...      1\n",
            "19998  Ali G Indahouse has got to be one of the funni...      1\n",
            "19999  I found myself at sixes and sevens while watch...      1\n",
            "20000  Christopher Lambert is annoying and disappoint...      0\n",
            "\n",
            "[20001 rows x 2 columns]\n"
          ]
        }
      ]
    },
    {
      "cell_type": "markdown",
      "source": [
        "# Text Preprocessing"
      ],
      "metadata": {
        "id": "wz0EqfbE0Qwp"
      }
    },
    {
      "cell_type": "code",
      "source": [
        "def lowercase(text):\n",
        "  \"\"\"\n",
        "    Converts text to be completely lowercase.\n",
        "\n",
        "    Argument: String of text.\n",
        "    Returns: Completely lowercase version of input text.\n",
        "  \"\"\"\n",
        "  return text.lower()\n",
        "  \n",
        "def remove_stopwords(text):\n",
        "  \"\"\"\n",
        "    Removes all stopwords from the text.\n",
        "    Note: Refers to nltk's default English stopword list.\n",
        "\n",
        "    Argument: String of text.\n",
        "    Returns: Input text, now free of stopwords.\n",
        "  \"\"\"\n",
        "  #Treat text as sentence\n",
        "  stopword_list = stopwords.words('english')\n",
        "  return ' '.join([word for word in nltk.word_tokenize(text) if not word in stopword_list])\n",
        "\n",
        "def lemmatize(text_tagged):\n",
        "  \"\"\"\n",
        "    Normalizes all words in the text\n",
        "    Note: Utilizes nltk's WordNet's lemmatizer to derive lemmatizations.\n",
        "\n",
        "    Argument: A list of tuples: [(<word>, <part of speech retag>),...]\n",
        "    Returns: Lemmatized form of text\n",
        "  \"\"\"\n",
        "  lemmatizer = WordNetLemmatizer()\n",
        "  lemmatized = \"\"\n",
        "  for word, pos in text_tagged:\n",
        "    if not pos:\n",
        "      lemmatized = lemmatized + \" \" + word\n",
        "    else:\n",
        "      lemmatized = lemmatized + \" \" + lemmatizer.lemmatize(word, pos=pos)\n",
        "\n",
        "  return lemmatized\n",
        "\n",
        "def retag(text_tagged):\n",
        "  \"\"\"\n",
        "    Rewrites the part of speech tags for each word into a form\n",
        "    interpretable by WordNet.\n",
        "\n",
        "    Argument: A list of tuples: [(<word>, <part of speech tag>),...]\n",
        "    Returns: Lemmatized form of text\n",
        "  \"\"\"\n",
        "  pos_dict = {'J':wordnet.ADJ, 'V':wordnet.VERB, 'N':wordnet.NOUN, 'R':wordnet.ADV}\n",
        "  retagged = []\n",
        "  for word, tag in text_tagged:\n",
        "      retagged.append(tuple([word, pos_dict.get(tag[0])]))\n",
        "\n",
        "  return retagged\n",
        "\n",
        "def spellcheck(text):\n",
        "  corrections = [Speller.spell(word) for word in nltk.word_tokenize(text)]\n",
        "  return ' '.join(corrections)\n",
        "\n",
        "\n",
        "#All functions combined\n",
        "def preprocessing3(text):\n",
        "  \"\"\"\n",
        "    Aggregation of preprocessing functions into one.\n",
        "    Note: Additionally uses re's sub() function for convenient cleaning.\n",
        "\n",
        "    Argument: Text, as a string.\n",
        "    Returns: Preprocessed text.\n",
        "  \"\"\"\n",
        "  lower = lowercase(text)\n",
        "  cleaned = re.sub('[^A-Za-z]+', ' ', lower)\n",
        "  stopwordfree = remove_stopwords(cleaned)\n",
        "  tokenized = word_tokenize(stopwordfree)\n",
        "  pos = nltk.pos_tag(tokenized)\n",
        "  posretagged = retag(pos)\n",
        "  lemmatized = lemmatize(posretagged)\n",
        "  tokenized2 = word_tokenize(lemmatized)\n",
        "  \n",
        "  #return tokenized2 #final, option1\n",
        "  return lemmatized #final, option2"
      ],
      "metadata": {
        "id": "sOErue-ClvIE"
      },
      "execution_count": null,
      "outputs": []
    },
    {
      "cell_type": "code",
      "source": [
        "extext = df_orig.iloc[50]['text']\n",
        "\n",
        "print(extext)\n",
        "print(preprocessing3(extext))"
      ],
      "metadata": {
        "colab": {
          "base_uri": "https://localhost:8080/"
        },
        "id": "x3hwNc9khm35",
        "outputId": "7833565b-8551-480f-cdfa-177295e90ab2"
      },
      "execution_count": null,
      "outputs": [
        {
          "output_type": "stream",
          "name": "stdout",
          "text": [
            "When this first came out, my dad brought it home- we were amazed by it- It was so different from anything we had seen before. I was looking for a specific movie last night, and I found \"The Mind's Eye\" again. The box is falling apart, and I am surprised that the tape still works! Although it is not 'Finding Nemo' quality graphics, it is still very good. They should sell this again- it is a landmark for computer animation imagery. Highly recommended!<br /><br />This is what it is:<br /><br />\"The Mind's Eye\" is a spectacular odyssey through time. Your journey begins at the dawn of creation and moves through the rise of man and technology. Travel in the world of abstraction and on into the future with breathtaking computer animation imagery.<br /><br />\"The Mind's Eye\" joins the imaginations of over 300 of the world's most talented computer animation artists with a powerful, original music soundtrack. This unique collaboration takes you on an incredible voyage into \"The Mind's Eye.\"\n",
            " first come dad bring home amaze different anything see look specific movie last night find mind eye box fall apart surprise tape still work although find nemo quality graphic still good sell landmark computer animation imagery highly recommend br br br br mind eye spectacular odyssey time journey begin dawn creation move rise man technology travel world abstraction future breathtaking computer animation imagery br br mind eye join imagination world talented computer animation artist powerful original music soundtrack unique collaboration take incredible voyage mind eye\n"
          ]
        }
      ]
    },
    {
      "cell_type": "code",
      "source": [
        "df_labels = df_orig['label']\n",
        "df_text = df_orig['text'].apply(preprocessing3, 'expand')\n",
        "\n",
        "print(df_text.head())"
      ],
      "metadata": {
        "id": "t8wmWL7xOY35",
        "colab": {
          "base_uri": "https://localhost:8080/"
        },
        "outputId": "877a8742-86c4-4dec-fb8b-5507f9208444"
      },
      "execution_count": null,
      "outputs": [
        {
          "output_type": "stream",
          "name": "stdout",
          "text": [
            "0     grow b watch loving thunderbird mat school wa...\n",
            "1     put movie dvd player sit coke chip expectatio...\n",
            "2     people know particular time past like feel ne...\n",
            "3     even though great interest biblical movie bor...\n",
            "4     im die hard dad army fan nothing ever change ...\n",
            "Name: text, dtype: object\n"
          ]
        }
      ]
    },
    {
      "cell_type": "markdown",
      "source": [
        "# Training and Test Split"
      ],
      "metadata": {
        "id": "xiRjIONL0aHq"
      }
    },
    {
      "cell_type": "code",
      "source": [
        "data_proc = {'text': df_text, 'label': df_labels}\n",
        "df_proc = pd.DataFrame(data=data_proc)\n",
        "print(df_proc)\n",
        "\n",
        "from sklearn.model_selection import train_test_split\n",
        "train_df, test_df = train_test_split(df_proc, test_size=0.2)\n",
        "\n",
        "train_data = train_df['text']\n",
        "train_labs = train_df['label']\n",
        "test_data = test_df['text']\n",
        "test_labs = test_df['label']"
      ],
      "metadata": {
        "colab": {
          "base_uri": "https://localhost:8080/"
        },
        "id": "G7b6P7cwi3xQ",
        "outputId": "7dc80194-75fc-4c3a-f9a0-cf70ec20ac85"
      },
      "execution_count": null,
      "outputs": [
        {
          "output_type": "stream",
          "name": "stdout",
          "text": [
            "                                                    text  label\n",
            "0       grow b watch loving thunderbird mat school wa...      0\n",
            "1       put movie dvd player sit coke chip expectatio...      0\n",
            "2       people know particular time past like feel ne...      0\n",
            "3       even though great interest biblical movie bor...      0\n",
            "4       im die hard dad army fan nothing ever change ...      1\n",
            "...                                                  ...    ...\n",
            "19996   white noise potential one talk movie since ex...      0\n",
            "19997   five deadly venom great kung fu action movie ...      1\n",
            "19998   ali g indahouse get one funny film see long t...      1\n",
            "19999   find six sevens watch one altman touch zoom e...      1\n",
            "20000   christopher lambert annoy disappointing portr...      0\n",
            "\n",
            "[20001 rows x 2 columns]\n"
          ]
        }
      ]
    },
    {
      "cell_type": "markdown",
      "source": [
        "# Text Vectorization"
      ],
      "metadata": {
        "id": "eIYnUvar0BNQ"
      }
    },
    {
      "cell_type": "code",
      "source": [
        "from sklearn.feature_extraction.text import TfidfVectorizer\n",
        "\n",
        "vectorizer = TfidfVectorizer(max_features=100)\n",
        "vectorizer.fit(df_proc['text'])\n",
        "\n",
        "train_data_tfidf = vectorizer.transform(train_data)\n",
        "test_data_tfidf = vectorizer.transform(test_data)"
      ],
      "metadata": {
        "id": "zA7YHaHmi5rL"
      },
      "execution_count": null,
      "outputs": []
    },
    {
      "cell_type": "code",
      "source": [
        "print(len(vectorizer.vocabulary_))\n",
        "print(type(train_data_tfidf))\n",
        "print(train_data_tfidf.shape)\n",
        "print(train_data_tfidf[0])\n",
        "print(np.max(train_data_tfidf))\n",
        "\n",
        "Xtrain = train_data_tfidf.toarray()\n",
        "Xtest = test_data_tfidf.toarray()\n",
        "ytrain = train_labs.to_numpy()\n",
        "ytest = train_labs.to_numpy()\n",
        "\n",
        "print(Xtrain.shape)\n",
        "print(Xtrain)\n",
        "print(ytrain.shape)\n",
        "print(ytrain.T)"
      ],
      "metadata": {
        "colab": {
          "base_uri": "https://localhost:8080/"
        },
        "id": "B-RieYqRaCVw",
        "outputId": "a7991a6c-19de-4843-d30b-e3befb5de905"
      },
      "execution_count": null,
      "outputs": [
        {
          "output_type": "stream",
          "name": "stdout",
          "text": [
            "100\n",
            "<class 'scipy.sparse.csr.csr_matrix'>\n",
            "(16000, 100)\n",
            "  (0, 69)\t0.21681225156499656\n",
            "  (0, 68)\t0.2979008478633487\n",
            "  (0, 60)\t0.3260887380135827\n",
            "  (0, 49)\t0.36349700929664086\n",
            "  (0, 45)\t0.21003997083141449\n",
            "  (0, 33)\t0.5871664298090341\n",
            "  (0, 21)\t0.3846093656355557\n",
            "  (0, 0)\t0.2982918400000042\n",
            "1.0\n",
            "(16000, 100)\n",
            "[[0.29829184 0.         0.         ... 0.         0.         0.        ]\n",
            " [0.         0.         0.         ... 0.         0.         0.        ]\n",
            " [0.16220945 0.17893429 0.         ... 0.21052812 0.18046027 0.        ]\n",
            " ...\n",
            " [0.         0.         0.         ... 0.         0.         0.        ]\n",
            " [0.         0.         0.06890658 ... 0.         0.         0.        ]\n",
            " [0.         0.         0.         ... 0.         0.         0.        ]]\n",
            "(16000,)\n",
            "[1 1 0 ... 0 0 0]\n"
          ]
        }
      ]
    },
    {
      "cell_type": "markdown",
      "source": [
        "## Feature Selection"
      ],
      "metadata": {
        "id": "0hrAFAHEJcyr"
      }
    },
    {
      "cell_type": "code",
      "source": [
        ""
      ],
      "metadata": {
        "id": "vf27VIweo4p2"
      },
      "execution_count": null,
      "outputs": []
    },
    {
      "cell_type": "code",
      "source": [
        ""
      ],
      "metadata": {
        "id": "fcu8xuJwv2l1"
      },
      "execution_count": null,
      "outputs": []
    },
    {
      "cell_type": "code",
      "source": [
        "print(np.count_nonzero(Xtrain[1,:])/len(Xtrain[1,:]))\n",
        "print(train_data_tfidf[1,:].getnnz()/80506)\n",
        "\n",
        "print(train_data_tfidf[1035,:])\n",
        "print(train_data_tfidf[:,1])\n",
        "#print(np.dot(train_data_tfidf[1,:], train_data_tfidf[5,:]))"
      ],
      "metadata": {
        "colab": {
          "base_uri": "https://localhost:8080/"
        },
        "id": "XXuSvzCylunI",
        "outputId": "1cc552d8-9b0e-4955-d0d7-0f9b35925a3e"
      },
      "execution_count": null,
      "outputs": [
        {
          "output_type": "stream",
          "name": "stdout",
          "text": [
            "0.2\n",
            "0.0002484286885449532\n",
            "  (0, 19)\t0.16971985340867474\n",
            "  (0, 24)\t0.12450247065351769\n",
            "  (0, 32)\t0.15224235339313433\n",
            "  (0, 38)\t0.21362956916794532\n",
            "  (0, 47)\t0.21319884756892082\n",
            "  (0, 49)\t0.1168536961991283\n",
            "  (0, 50)\t0.18497916166364076\n",
            "  (0, 52)\t0.25152037117819703\n",
            "  (0, 58)\t0.24519629534513074\n",
            "  (0, 69)\t0.13939764195390983\n",
            "  (0, 73)\t0.2290929342892216\n",
            "  (0, 76)\t0.6746368822464701\n",
            "  (0, 81)\t0.1769474968978138\n",
            "  (0, 86)\t0.21495644101729547\n",
            "  (0, 95)\t0.2561299424667805\n",
            "  (2, 0)\t0.178934289615488\n",
            "  (5, 0)\t0.16451549467852966\n",
            "  (8, 0)\t0.08352757110784775\n",
            "  (10, 0)\t0.07767319552951645\n",
            "  (14, 0)\t0.13692382661913843\n",
            "  (17, 0)\t0.1824245561138881\n",
            "  (20, 0)\t0.2665784200284169\n",
            "  (41, 0)\t0.08096374815628754\n",
            "  (45, 0)\t0.11734274997012285\n",
            "  (47, 0)\t0.06302516275819435\n",
            "  (51, 0)\t0.1798872557995854\n",
            "  (55, 0)\t0.16244619196123017\n",
            "  (68, 0)\t0.3589177509654532\n",
            "  (80, 0)\t0.5088407995201546\n",
            "  (81, 0)\t0.19387595773850608\n",
            "  (89, 0)\t0.06911268523127355\n",
            "  (93, 0)\t0.09613944568948257\n",
            "  (103, 0)\t0.16151111776643381\n",
            "  (106, 0)\t0.3758080618427758\n",
            "  (109, 0)\t0.08875634546333272\n",
            "  (123, 0)\t0.10989950920491937\n",
            "  (124, 0)\t0.2900381364838601\n",
            "  (125, 0)\t0.15269392851840166\n",
            "  (127, 0)\t0.16576929791578363\n",
            "  (132, 0)\t0.1891622492491147\n",
            "  :\t:\n",
            "  (15881, 0)\t0.3210434013911723\n",
            "  (15888, 0)\t0.13597164621094474\n",
            "  (15894, 0)\t0.20675740754071625\n",
            "  (15900, 0)\t0.0959397810330119\n",
            "  (15906, 0)\t0.20043409596867215\n",
            "  (15907, 0)\t0.25948676407844795\n",
            "  (15910, 0)\t0.35797330065124294\n",
            "  (15922, 0)\t0.1640816899189271\n",
            "  (15925, 0)\t0.12608865824298449\n",
            "  (15927, 0)\t0.12237975983899141\n",
            "  (15929, 0)\t0.11368517213068421\n",
            "  (15931, 0)\t0.06451755593014939\n",
            "  (15933, 0)\t0.048477464491406365\n",
            "  (15939, 0)\t0.23806746762101694\n",
            "  (15946, 0)\t0.35310411100816763\n",
            "  (15956, 0)\t0.16155576969703492\n",
            "  (15962, 0)\t0.23876369979078593\n",
            "  (15970, 0)\t0.23732260203905117\n",
            "  (15974, 0)\t0.1624433237044335\n",
            "  (15975, 0)\t0.27623267197813484\n",
            "  (15978, 0)\t0.09656926346713245\n",
            "  (15979, 0)\t0.0908688471157369\n",
            "  (15988, 0)\t0.10881839258124273\n",
            "  (15990, 0)\t0.1749266764705834\n",
            "  (15991, 0)\t0.39666242193816365\n"
          ]
        }
      ]
    },
    {
      "cell_type": "code",
      "source": [
        "import math \n",
        "\n",
        "#print(train_data[0])\n",
        "\n",
        "def txf(sentence):\n",
        "  word_dict = {}\n",
        "  words = word_tokenize(sentence);\n",
        "  \n",
        "  for word in words:\n",
        "    word_dict[word] = word_dict.get(word, 0) + 1\n",
        "  return word_dict\n",
        "\n",
        "print(txf(extext))\n",
        "print(len(df_orig))\n",
        "\n",
        "class TFIDF:\n",
        "  def __init__(self):\n",
        "    self.word_index = {}\n",
        "    self.index_word = {}\n",
        "    self.idf_dict = {}\n",
        "  \n",
        "  def fit(self, data):\n",
        "    text_list = data\n",
        "    text_num = len(text_list)\n",
        "\n",
        "    global_tf = {}\n",
        "    for text in text_list:\n",
        "      wordset = set()\n",
        "      text_tf = txf(text)\n",
        "\n",
        "      for word in text_tf:\n",
        "        if word not in wordset:\n",
        "          global_tf[word] = global_tf.get(word,0) + 1\n",
        "          wordset.add(word)\n",
        "\n",
        "    for word, freq in global_tf.items():\n",
        "      idf = math.log((1+len(data)) / (1+freq))\n",
        "      self.idf_dict[word] = idf\n",
        "\n",
        "    text_words = list(global_tf.keys())\n",
        "    for i in range(len(text_words)):\n",
        "      word = text_words[i]\n",
        "      self.word_index[word] = i\n",
        "      self.index_word[i] = word\n",
        "\n",
        "    print(type(global_tf.items()))\n",
        "\n",
        "  def transform(self, data):\n",
        "    text_vects = []\n",
        "    text_list = data\n",
        "\n",
        "    for text in text_list:\n",
        "      text_vects.append(self.transformtext(data, text))\n",
        "\n",
        "    return np.matrix(text_vects)\n",
        "\n",
        "  def transformtext(self, data, text):\n",
        "    text_list = data\n",
        "    text_tokenized = word_tokenize(text)\n",
        "    \n",
        "    word_vector = np.zeros(len(self.word_index))\n",
        "    text_tfidf = self.text_tfidf(text)\n",
        "\n",
        "    for word in text_tokenized:\n",
        "      if word in self.word_index:\n",
        "        word_index = self.word_index[word]\n",
        "        word_vector[word_index] = text_tfidf[word]\n",
        "\n",
        "    return word_vector\n",
        "\n",
        "  def text_tfidf(self, text):\n",
        "    text_tfidf = {}\n",
        "    text_tf = txf(text)\n",
        "    num_words = sum(text_tf.values())\n",
        "    \n",
        "    average_freq = {k:(float(v)/num_words) for k, v in text_tf.items()}\n",
        "\n",
        "    for term, tf in average_freq.items():\n",
        "      text_tfidf[term] = tf*self.idf_dict.get(term, 0)\n",
        "\n",
        "    return text_tfidf"
      ],
      "metadata": {
        "id": "8a3GYcHP_P5U",
        "colab": {
          "base_uri": "https://localhost:8080/"
        },
        "outputId": "212e956f-2c42-40c2-a82a-46a3ca288604"
      },
      "execution_count": null,
      "outputs": [
        {
          "output_type": "stream",
          "name": "stdout",
          "text": [
            "{'When': 1, 'this': 2, 'first': 1, 'came': 1, 'out': 1, ',': 5, 'my': 1, 'dad': 1, 'brought': 1, 'it': 5, 'home-': 1, 'we': 2, 'were': 1, 'amazed': 1, 'by': 1, 'it-': 1, 'It': 1, 'was': 2, 'so': 1, 'different': 1, 'from': 1, 'anything': 1, 'had': 1, 'seen': 1, 'before': 1, '.': 8, 'I': 3, 'looking': 1, 'for': 2, 'a': 4, 'specific': 1, 'movie': 1, 'last': 1, 'night': 1, 'and': 5, 'found': 1, '``': 2, 'The': 5, 'Mind': 4, \"'s\": 5, 'Eye': 4, \"''\": 6, 'again': 1, 'box': 1, 'is': 7, 'falling': 1, 'apart': 1, 'am': 1, 'surprised': 1, 'that': 1, 'the': 7, 'tape': 1, 'still': 2, 'works': 1, '!': 2, 'Although': 1, 'not': 1, \"'Finding\": 1, 'Nemo': 1, \"'\": 1, 'quality': 1, 'graphics': 1, 'very': 1, 'good': 1, 'They': 1, 'should': 1, 'sell': 1, 'again-': 1, 'landmark': 1, 'computer': 3, 'animation': 3, 'imagery': 1, 'Highly': 1, 'recommended': 1, '<': 6, 'br': 6, '/': 6, '>': 6, 'This': 2, 'what': 1, ':': 1, 'spectacular': 1, 'odyssey': 1, 'through': 2, 'time': 1, 'Your': 1, 'journey': 1, 'begins': 1, 'at': 1, 'dawn': 1, 'of': 5, 'creation': 1, 'moves': 1, 'rise': 1, 'man': 1, 'technology': 1, 'Travel': 1, 'in': 1, 'world': 2, 'abstraction': 1, 'on': 2, 'into': 2, 'future': 1, 'with': 2, 'breathtaking': 1, 'imagery.': 1, 'joins': 1, 'imaginations': 1, 'over': 1, '300': 1, 'most': 1, 'talented': 1, 'artists': 1, 'powerful': 1, 'original': 1, 'music': 1, 'soundtrack': 1, 'unique': 1, 'collaboration': 1, 'takes': 1, 'you': 1, 'an': 1, 'incredible': 1, 'voyage': 1}\n",
            "20001\n"
          ]
        }
      ]
    },
    {
      "cell_type": "code",
      "source": [
        "#test = TFIDF()\n",
        "#test.fit(train_data)\n",
        "#test.transform(train_data)\n",
        "#print(test.index_word)"
      ],
      "metadata": {
        "id": "arlJyV2EQ0V0"
      },
      "execution_count": null,
      "outputs": []
    },
    {
      "cell_type": "markdown",
      "source": [
        "# Machine Learning Algorithms\n"
      ],
      "metadata": {
        "id": "MDL3aqURz-Ba"
      }
    },
    {
      "cell_type": "markdown",
      "source": [
        "## Multinomial Naive Bayes"
      ],
      "metadata": {
        "id": "9CkRCTV2QCG4"
      }
    },
    {
      "cell_type": "markdown",
      "source": [
        "## SVM"
      ],
      "metadata": {
        "id": "D8MCTRzHz52c"
      }
    },
    {
      "cell_type": "code",
      "source": [
        "def accuracy(data, predictions):\n",
        "  data = data.to_numpy()\n",
        "  correct = 0\n",
        "\n",
        "  for i in range(len(predictions)):\n",
        "    if (float(data[i]) == 1.0 and predictions[i][0] == 1.0) or (float(data[i]) == 0.0 and predictions[i][0] == 0.0):\n",
        "      correct += 1\n",
        "\n",
        "  return float(correct/len(predictions))"
      ],
      "metadata": {
        "id": "YM_onX-7nPwo"
      },
      "execution_count": null,
      "outputs": []
    },
    {
      "cell_type": "code",
      "source": [
        "#Implementation of SVM class inspired by \n",
        "\n",
        "from cvxopt import matrix, solvers\n",
        "\n",
        "class SVM():\n",
        "  def __init__(self, C, kernel='lin', degree=None, intercept=None, sigma=None):\n",
        "    #C, the stretch parameter\n",
        "    self.C = C\n",
        "    self.kernel = self.kernel_lin\n",
        "\n",
        "    if kernel == 'poly':\n",
        "      self.kernel = self.kernel_poly\n",
        "      self.degree = degree\n",
        "    elif kernel == 'gauss':\n",
        "      self.sigma = sigma\n",
        "      self.kernel = self.kernel_gauss\n",
        "\n",
        "  def fit(self, X, y):\n",
        "    m, n = Xtrain.shape\n",
        "    y = y.reshape(-1, 1)\n",
        "    y = y.astype('float')\n",
        "\n",
        "    K = self.kernel(X, X)\n",
        "\n",
        "    self.labels = np.unique(y)\n",
        "    print(self.labels)\n",
        "    \n",
        "    recode = y == self.labels[0]\n",
        "    y[recode] = 1       \n",
        "    y[~recode] = -1\n",
        "    y = y * 1.\n",
        "\n",
        "    assert(X.shape[0] == y.shape[0])\n",
        "\n",
        "    P = matrix(np.matmul(y,y.T)*K)\n",
        "    q = matrix(np.ones((m, 1))*-1)\n",
        "    A = matrix(y.reshape(1, -1))\n",
        "    b = matrix(np.zeros(1))\n",
        "    G = matrix(np.vstack((np.eye(m) * -1, np.eye(m))))        \n",
        "    h = matrix(np.hstack((np.zeros(m), np.ones(m) * self.C)))\n",
        "\n",
        "    sol = solvers.qp(P,q,G,h,A,b)\n",
        "    alpha = np.array(sol['x'])\n",
        "    idx = (alpha > 1e-4).flatten()\n",
        "\n",
        "    self.sv = X[idx]\n",
        "    self.sv_y = y[idx]\n",
        "    self.alpha = alpha[idx]\n",
        "\n",
        "    b = self.sv_y - np.sum(self.kernel(self.sv, self.sv) * self.alpha * self.sv_y, axis = 0)\n",
        "    \n",
        "    self.b = np.sum(b)/b.size\n",
        "    self.w = np.sum(self.alpha * self.sv_y * self.sv, axis=0)\n",
        "\n",
        "  def kernel_lin(self, u, v):\n",
        "    return np.dot(u, v.T)\n",
        "\n",
        "  def kernel_poly(self, u, v):\n",
        "    return (np.dot(u,v.T)+1)**self.degree\n",
        "\n",
        "  def kernel_gauss(self, u, v):\n",
        "    return np.exp(-(np.linalg.norm(u - v) ** 2)/(2*self.sigma **2))\n",
        "\n",
        "  def predict(self, Xtest):\n",
        "        if self.w is None:\n",
        "            print(\"No model constructed.\")\n",
        "            return\n",
        "        else:\n",
        "            ypred = np.dot(self.w, Xtest.T) + self.b\n",
        "\n",
        "        ypred = np.sign(ypred)\n",
        "        ypred = ypred.reshape(-1, 1)\n",
        "        recode = ypred == 1.\n",
        "        ypred[recode] = self.labels[0]\n",
        "        ypred[~recode] = self.labels[1]\n",
        "\n",
        "        return ypred\n",
        "\n",
        "  "
      ],
      "metadata": {
        "id": "MNs6_gDmsWM5"
      },
      "execution_count": null,
      "outputs": []
    },
    {
      "cell_type": "code",
      "source": [
        "models_forC = list()\n",
        "models_forkernel = list()"
      ],
      "metadata": {
        "id": "7RQPhekb9FW9"
      },
      "execution_count": null,
      "outputs": []
    },
    {
      "cell_type": "code",
      "source": [
        "base = SVM(0.5)\n",
        "print(Xtrain.shape, ytrain.shape)\n",
        "print(type(Xtrain), type(ytrain))\n",
        "base.fit(Xtrain, ytrain)"
      ],
      "metadata": {
        "colab": {
          "base_uri": "https://localhost:8080/"
        },
        "id": "rPUkSp-F0MBc",
        "outputId": "b678c4a7-c761-4699-9bca-954299834091"
      },
      "execution_count": null,
      "outputs": [
        {
          "output_type": "stream",
          "name": "stdout",
          "text": [
            "(16000, 100) (16000,)\n",
            "<class 'numpy.ndarray'> <class 'numpy.ndarray'>\n",
            "[0. 1.]\n",
            "     pcost       dcost       gap    pres   dres\n",
            " 0: -8.2145e+03 -2.7075e+04  3e+05  8e+00  6e-14\n",
            " 1: -3.9896e+03 -2.3216e+04  5e+04  9e-01  6e-14\n",
            " 2: -3.4618e+03 -1.1533e+04  1e+04  8e-02  3e-14\n",
            " 3: -3.9680e+03 -5.4397e+03  2e+03  1e-02  4e-14\n",
            " 4: -4.3828e+03 -4.9406e+03  6e+02  4e-03  4e-14\n",
            " 5: -4.5068e+03 -4.7914e+03  3e+02  2e-03  4e-14\n",
            " 6: -4.5703e+03 -4.7131e+03  1e+02  8e-04  5e-14\n",
            " 7: -4.6014e+03 -4.6749e+03  8e+01  3e-04  5e-14\n",
            " 8: -4.6158e+03 -4.6575e+03  4e+01  2e-04  5e-14\n",
            " 9: -4.6283e+03 -4.6426e+03  1e+01  5e-05  5e-14\n",
            "10: -4.6323e+03 -4.6380e+03  6e+00  1e-05  5e-14\n",
            "11: -4.6340e+03 -4.6360e+03  2e+00  3e-06  5e-14\n",
            "12: -4.6347e+03 -4.6353e+03  7e-01  1e-06  5e-14\n",
            "13: -4.6349e+03 -4.6351e+03  2e-01  1e-07  5e-14\n",
            "14: -4.6350e+03 -4.6350e+03  8e-03  5e-09  6e-14\n",
            "15: -4.6350e+03 -4.6350e+03  2e-03  7e-10  5e-14\n",
            "Optimal solution found.\n"
          ]
        }
      ]
    },
    {
      "cell_type": "code",
      "source": [
        "base_model = base.w\n",
        "base_pred = base.predict(Xtest)\n",
        "\n",
        "print(accuracy(test_labs, base_pred))"
      ],
      "metadata": {
        "colab": {
          "base_uri": "https://localhost:8080/"
        },
        "id": "XaZbJ1DhUzIR",
        "outputId": "6b2cad2b-c7a8-4d2a-8d71-94bd514c90bc"
      },
      "execution_count": null,
      "outputs": [
        {
          "output_type": "stream",
          "name": "stdout",
          "text": [
            "0.7438140464883779\n"
          ]
        }
      ]
    },
    {
      "cell_type": "code",
      "source": [
        "poly = SVM(0.5, kernel='poly', degree=2, intercept=1)\n",
        "poly.fit(Xtrain, ytrain)"
      ],
      "metadata": {
        "colab": {
          "base_uri": "https://localhost:8080/",
          "height": 617
        },
        "id": "1d8oM0dx9VuJ",
        "outputId": "8aac2710-fe75-4e47-9964-6ccde34e3a29"
      },
      "execution_count": null,
      "outputs": [
        {
          "output_type": "stream",
          "name": "stdout",
          "text": [
            "[0. 1.]\n",
            "     pcost       dcost       gap    pres   dres\n",
            " 0: -6.5309e+03 -2.1538e+04  2e+05  6e+00  3e-13\n",
            " 1: -3.5924e+03 -1.7710e+04  3e+04  7e-01  3e-13\n",
            " 2: -3.3223e+03 -1.0440e+04  1e+04  2e-01  2e-13\n",
            " 3: -3.5466e+03 -4.9461e+03  2e+03  2e-02  2e-13\n",
            " 4: -3.8457e+03 -4.4530e+03  7e+02  8e-03  2e-13\n",
            " 5: -3.9433e+03 -4.3052e+03  4e+02  4e-03  2e-13\n",
            " 6: -4.0357e+03 -4.1607e+03  1e+02  1e-03  2e-13\n",
            " 7: -4.0733e+03 -4.1051e+03  3e+01  2e-04  3e-13\n",
            " 8: -4.0846e+03 -4.0896e+03  5e+00  2e-05  3e-13\n",
            " 9: -4.0866e+03 -4.0870e+03  5e-01  1e-06  3e-13\n",
            "10: -4.0867e+03 -4.0868e+03  2e-02  6e-08  3e-13\n",
            "11: -4.0868e+03 -4.0868e+03  5e-04  1e-09  3e-13\n",
            "Optimal solution found.\n"
          ]
        },
        {
          "output_type": "error",
          "ename": "TypeError",
          "evalue": "ignored",
          "traceback": [
            "\u001b[0;31m---------------------------------------------------------------------------\u001b[0m",
            "\u001b[0;31mTypeError\u001b[0m                                 Traceback (most recent call last)",
            "\u001b[0;32m<ipython-input-23-265f9c18f72b>\u001b[0m in \u001b[0;36m<module>\u001b[0;34m()\u001b[0m\n\u001b[1;32m      2\u001b[0m \u001b[0mpoly\u001b[0m\u001b[0;34m.\u001b[0m\u001b[0mfit\u001b[0m\u001b[0;34m(\u001b[0m\u001b[0mXtrain\u001b[0m\u001b[0;34m,\u001b[0m \u001b[0mytrain\u001b[0m\u001b[0;34m)\u001b[0m\u001b[0;34m\u001b[0m\u001b[0;34m\u001b[0m\u001b[0m\n\u001b[1;32m      3\u001b[0m \u001b[0mgauss\u001b[0m \u001b[0;34m=\u001b[0m \u001b[0mSVM\u001b[0m\u001b[0;34m(\u001b[0m\u001b[0;36m0.5\u001b[0m\u001b[0;34m,\u001b[0m \u001b[0mkernel\u001b[0m\u001b[0;34m=\u001b[0m\u001b[0;34m'gauss'\u001b[0m\u001b[0;34m,\u001b[0m \u001b[0msigma\u001b[0m\u001b[0;34m=\u001b[0m\u001b[0;36m0.2\u001b[0m\u001b[0;34m)\u001b[0m\u001b[0;34m\u001b[0m\u001b[0;34m\u001b[0m\u001b[0m\n\u001b[0;32m----> 4\u001b[0;31m \u001b[0mgauss\u001b[0m\u001b[0;34m.\u001b[0m\u001b[0mfit\u001b[0m\u001b[0;34m(\u001b[0m\u001b[0mXtrain\u001b[0m\u001b[0;34m,\u001b[0m \u001b[0mytrain\u001b[0m\u001b[0;34m)\u001b[0m\u001b[0;34m\u001b[0m\u001b[0;34m\u001b[0m\u001b[0m\n\u001b[0m\u001b[1;32m      5\u001b[0m \u001b[0;34m\u001b[0m\u001b[0m\n\u001b[1;32m      6\u001b[0m \u001b[0mmodels_forkernel\u001b[0m\u001b[0;34m.\u001b[0m\u001b[0mappend\u001b[0m\u001b[0;34m(\u001b[0m\u001b[0mpoly\u001b[0m\u001b[0;34m)\u001b[0m\u001b[0;34m\u001b[0m\u001b[0;34m\u001b[0m\u001b[0m\n",
            "\u001b[0;32m<ipython-input-22-2478399223a9>\u001b[0m in \u001b[0;36mfit\u001b[0;34m(self, X, y)\u001b[0m\n\u001b[1;32m     21\u001b[0m     \u001b[0my\u001b[0m \u001b[0;34m=\u001b[0m \u001b[0my\u001b[0m\u001b[0;34m.\u001b[0m\u001b[0mastype\u001b[0m\u001b[0;34m(\u001b[0m\u001b[0;34m'float'\u001b[0m\u001b[0;34m)\u001b[0m\u001b[0;34m\u001b[0m\u001b[0;34m\u001b[0m\u001b[0m\n\u001b[1;32m     22\u001b[0m \u001b[0;34m\u001b[0m\u001b[0m\n\u001b[0;32m---> 23\u001b[0;31m     \u001b[0mK\u001b[0m \u001b[0;34m=\u001b[0m \u001b[0mself\u001b[0m\u001b[0;34m.\u001b[0m\u001b[0mkernel\u001b[0m\u001b[0;34m(\u001b[0m\u001b[0mX\u001b[0m\u001b[0;34m,\u001b[0m \u001b[0mX\u001b[0m\u001b[0;34m)\u001b[0m\u001b[0;34m\u001b[0m\u001b[0;34m\u001b[0m\u001b[0m\n\u001b[0m\u001b[1;32m     24\u001b[0m \u001b[0;34m\u001b[0m\u001b[0m\n\u001b[1;32m     25\u001b[0m     \u001b[0mself\u001b[0m\u001b[0;34m.\u001b[0m\u001b[0mlabels\u001b[0m \u001b[0;34m=\u001b[0m \u001b[0mnp\u001b[0m\u001b[0;34m.\u001b[0m\u001b[0munique\u001b[0m\u001b[0;34m(\u001b[0m\u001b[0my\u001b[0m\u001b[0;34m)\u001b[0m\u001b[0;34m\u001b[0m\u001b[0;34m\u001b[0m\u001b[0m\n",
            "\u001b[0;31mTypeError\u001b[0m: kernel_gauss() missing 1 required positional argument: 'sigma'"
          ]
        }
      ]
    },
    {
      "cell_type": "code",
      "source": [
        "poly_pred = poly.predict(Xtest)\n",
        "print(accuracy(test_labs, poly_pred))"
      ],
      "metadata": {
        "colab": {
          "base_uri": "https://localhost:8080/"
        },
        "id": "j6q_V4V1GJs_",
        "outputId": "36aea541-f668-48f3-e0c6-50e46c85546a"
      },
      "execution_count": null,
      "outputs": [
        {
          "output_type": "stream",
          "name": "stdout",
          "text": [
            "0.7373156710822294\n"
          ]
        }
      ]
    },
    {
      "cell_type": "code",
      "source": [
        "gauss = SVM(0.5, kernel='gauss', sigma=0.2)\n",
        "gauss.fit(Xtrain, ytrain)\n",
        "\n",
        "models_forkernel.append(poly)\n",
        "models_forkernel.append(gauss)"
      ],
      "metadata": {
        "colab": {
          "base_uri": "https://localhost:8080/"
        },
        "id": "aoP5S8GJGKBQ",
        "outputId": "fe1f8c63-b91d-4441-b966-5b44340a7df1"
      },
      "execution_count": null,
      "outputs": [
        {
          "output_type": "stream",
          "name": "stdout",
          "text": [
            "[0. 1.]\n",
            "     pcost       dcost       gap    pres   dres\n",
            " 0: -1.2000e+04 -1.6008e+04  6e+04  4e+00  8e-12\n",
            " 1: -6.5141e+03 -1.3114e+04  7e+03  2e-12  8e-12\n",
            " 2: -7.6911e+03 -8.0510e+03  4e+02  2e-13  8e-13\n",
            " 3: -7.9860e+03 -8.0014e+03  2e+01  8e-14  3e-12\n",
            " 4: -7.9877e+03 -7.9897e+03  2e+00  3e-13  3e-12\n",
            " 5: -7.9890e+03 -7.9890e+03  2e-02  4e-13  5e-12\n",
            " 6: -7.9890e+03 -7.9890e+03  2e-04  1e-13  5e-12\n",
            "Optimal solution found.\n"
          ]
        }
      ]
    },
    {
      "cell_type": "code",
      "source": [
        "lin1 = SVM(0.1)\n",
        "lin2 = SVM(1,0)\n",
        "lin3 = SVM(2.5)\n",
        "lin4 = SVM(4.0)\n",
        "lin1.fit(Xtrain, ytrain)\n",
        "lin2.fit(Xtrain,ytrain)\n",
        "lin3.fit(Xtrain,ytrain)\n",
        "lin4.fit(Xtrain,ytrain)\n",
        "models_forC.append(lin1)\n",
        "models_forC.append(lin2)\n",
        "models_forC.append(lin3)\n",
        "models_forC.append(lin4)"
      ],
      "metadata": {
        "colab": {
          "base_uri": "https://localhost:8080/"
        },
        "id": "JaeuIDSjG21M",
        "outputId": "bcd32ec0-5baa-4cfe-96bb-e902b7c6b98d"
      },
      "execution_count": null,
      "outputs": [
        {
          "output_type": "stream",
          "name": "stdout",
          "text": [
            "[0. 1.]\n",
            "     pcost       dcost       gap    pres   dres\n",
            " 0: -6.0294e+03 -4.8352e+03  2e+05  4e+01  4e-14\n",
            " 1: -9.7336e+02 -4.6553e+03  1e+04  2e+00  4e-14\n",
            " 2: -7.2841e+02 -2.8531e+03  3e+03  1e-01  9e-15\n",
            " 3: -8.2786e+02 -1.1331e+03  3e+02  1e-02  8e-15\n",
            " 4: -9.4042e+02 -1.0194e+03  8e+01  3e-03  9e-15\n",
            " 5: -9.6349e+02 -9.9709e+02  3e+01  9e-04  1e-14\n",
            " 6: -9.7431e+02 -9.8579e+02  1e+01  3e-04  1e-14\n",
            " 7: -9.7707e+02 -9.8292e+02  6e+00  1e-04  1e-14\n",
            " 8: -9.7900e+02 -9.8087e+02  2e+00  3e-05  1e-14\n",
            " 9: -9.7958e+02 -9.8027e+02  7e-01  8e-06  1e-14\n",
            "10: -9.7983e+02 -9.8000e+02  2e-01  1e-06  1e-14\n",
            "11: -9.7990e+02 -9.7993e+02  3e-02  2e-07  1e-14\n",
            "12: -9.7991e+02 -9.7992e+02  4e-03  2e-08  1e-14\n",
            "13: -9.7991e+02 -9.7991e+02  2e-04  5e-10  1e-14\n",
            "Optimal solution found.\n",
            "[0. 1.]\n",
            "     pcost       dcost       gap    pres   dres\n",
            " 0: -1.0940e+04 -6.1510e+04  4e+05  4e+00  8e-14\n",
            " 1: -7.2042e+03 -4.7920e+04  8e+04  6e-01  8e-14\n",
            " 2: -6.7427e+03 -1.8271e+04  1e+04  2e-02  7e-14\n",
            " 3: -8.0409e+03 -1.0566e+04  3e+03  5e-03  7e-14\n",
            " 4: -8.6268e+03 -9.8921e+03  1e+03  2e-03  8e-14\n",
            " 5: -8.9006e+03 -9.5454e+03  7e+02  9e-04  9e-14\n",
            " 6: -9.0151e+03 -9.4003e+03  4e+02  5e-04  9e-14\n",
            " 7: -9.0963e+03 -9.2975e+03  2e+02  2e-04  9e-14\n",
            " 8: -9.1374e+03 -9.2459e+03  1e+02  1e-04  9e-14\n",
            " 9: -9.1638e+03 -9.2133e+03  5e+01  3e-05  1e-13\n",
            "10: -9.1782e+03 -9.1963e+03  2e+01  7e-06  1e-13\n",
            "11: -9.1836e+03 -9.1901e+03  7e+00  2e-06  1e-13\n",
            "12: -9.1856e+03 -9.1880e+03  2e+00  5e-07  1e-13\n",
            "13: -9.1863e+03 -9.1872e+03  9e-01  9e-08  1e-13\n",
            "14: -9.1865e+03 -9.1870e+03  4e-01  1e-08  1e-13\n",
            "15: -9.1867e+03 -9.1868e+03  4e-02  1e-09  1e-13\n",
            "16: -9.1867e+03 -9.1867e+03  6e-03  2e-10  1e-13\n",
            "Optimal solution found.\n",
            "[0. 1.]\n",
            "     pcost       dcost       gap    pres   dres\n",
            " 0: -1.9081e+04 -2.0904e+05  9e+05  2e+00  1e-13\n",
            " 1: -1.5811e+04 -1.3614e+05  2e+05  3e-01  2e-13\n",
            " 2: -1.6328e+04 -3.8982e+04  2e+04  2e-02  2e-13\n",
            " 3: -2.0002e+04 -2.6326e+04  7e+03  6e-03  2e-13\n",
            " 4: -2.1073e+04 -2.5115e+04  4e+03  3e-03  2e-13\n",
            " 5: -2.1680e+04 -2.4321e+04  3e+03  2e-03  2e-13\n",
            " 6: -2.2050e+04 -2.3839e+04  2e+03  1e-03  2e-13\n",
            " 7: -2.2380e+04 -2.3408e+04  1e+03  6e-04  2e-13\n",
            " 8: -2.2562e+04 -2.3174e+04  6e+02  3e-04  2e-13\n",
            " 9: -2.2659e+04 -2.3051e+04  4e+02  2e-04  2e-13\n",
            "10: -2.2737e+04 -2.2953e+04  2e+02  8e-05  2e-13\n",
            "11: -2.2784e+04 -2.2895e+04  1e+02  3e-05  2e-13\n",
            "12: -2.2812e+04 -2.2862e+04  5e+01  1e-05  2e-13\n",
            "13: -2.2824e+04 -2.2847e+04  2e+01  3e-06  2e-13\n",
            "14: -2.2832e+04 -2.2839e+04  7e+00  8e-07  2e-13\n",
            "15: -2.2834e+04 -2.2836e+04  2e+00  2e-07  2e-13\n",
            "16: -2.2835e+04 -2.2835e+04  5e-01  4e-08  2e-13\n",
            "17: -2.2835e+04 -2.2835e+04  1e-01  9e-09  2e-13\n",
            "18: -2.2835e+04 -2.2835e+04  2e-02  8e-10  3e-13\n",
            "Optimal solution found.\n",
            "[0. 1.]\n",
            "     pcost       dcost       gap    pres   dres\n",
            " 0: -2.7167e+04 -4.2291e+05  1e+06  2e+00  2e-13\n",
            " 1: -2.3889e+04 -2.4769e+05  3e+05  2e-01  2e-13\n",
            " 2: -2.5386e+04 -6.3382e+04  4e+04  2e-02  2e-13\n",
            " 3: -3.1714e+04 -4.2372e+04  1e+04  5e-03  3e-13\n",
            " 4: -3.3348e+04 -4.0538e+04  7e+03  3e-03  3e-13\n",
            " 5: -3.4589e+04 -3.8909e+04  4e+03  1e-03  3e-13\n",
            " 6: -3.5244e+04 -3.8064e+04  3e+03  9e-04  3e-13\n",
            " 7: -3.5766e+04 -3.7384e+04  2e+03  4e-04  3e-13\n",
            " 8: -3.6067e+04 -3.6998e+04  9e+02  2e-04  3e-13\n",
            " 9: -3.6255e+04 -3.6758e+04  5e+02  1e-04  4e-13\n",
            "10: -3.6358e+04 -3.6630e+04  3e+02  4e-05  4e-13\n",
            "11: -3.6426e+04 -3.6547e+04  1e+02  2e-05  4e-13\n",
            "12: -3.6457e+04 -3.6509e+04  5e+01  3e-06  4e-13\n",
            "13: -3.6475e+04 -3.6490e+04  2e+01  7e-07  4e-13\n",
            "14: -3.6479e+04 -3.6485e+04  6e+00  2e-07  4e-13\n",
            "15: -3.6481e+04 -3.6483e+04  2e+00  4e-08  4e-13\n",
            "16: -3.6482e+04 -3.6482e+04  7e-01  1e-08  4e-13\n",
            "17: -3.6482e+04 -3.6482e+04  3e-01  3e-09  4e-13\n",
            "18: -3.6482e+04 -3.6482e+04  4e-02  4e-10  4e-13\n",
            "19: -3.6482e+04 -3.6482e+04  1e-03  1e-11  4e-13\n",
            "Optimal solution found.\n"
          ]
        }
      ]
    },
    {
      "cell_type": "code",
      "source": [
        "models_forC.append(base)\n",
        "models_forkernel.append(base)\n",
        "print(models_forC)\n",
        "print(models_forkernel)"
      ],
      "metadata": {
        "colab": {
          "base_uri": "https://localhost:8080/"
        },
        "id": "JY7UY9VysEMD",
        "outputId": "3935a798-d861-4f5e-e949-45b69d38b44f"
      },
      "execution_count": null,
      "outputs": [
        {
          "output_type": "stream",
          "name": "stdout",
          "text": [
            "[<__main__.SVM object at 0x7fed562d0fd0>, <__main__.SVM object at 0x7fed562d05d0>, <__main__.SVM object at 0x7fed562d0c10>, <__main__.SVM object at 0x7fed562d0dd0>, <__main__.SVM object at 0x7fed56246290>]\n",
            "[<__main__.SVM object at 0x7fed61e78990>, <__main__.SVM object at 0x7fed562bbf50>, <__main__.SVM object at 0x7fed56246290>]\n"
          ]
        }
      ]
    },
    {
      "cell_type": "code",
      "source": [
        "acc_forC = []\n",
        "acc_forK = []\n",
        "\n",
        "acc_forC.append(accuracy(test_labs, lin1.predict(Xtest)))\n",
        "acc_forC.append(accuracy(test_labs, base.predict(Xtest)))\n",
        "acc_forC.append(accuracy(test_labs, lin2.predict(Xtest)))\n",
        "acc_forC.append(accuracy(test_labs, lin3.predict(Xtest)))\n",
        "acc_forC.append(accuracy(test_labs, lin4.predict(Xtest)))\n",
        "print(acc_forC)\n",
        "\n",
        "acc_forK.append(accuracy(test_labs, base.predict(Xtest)))\n",
        "acc_forK.append(accuracy(test_labs, poly.predict(Xtest)))\n",
        "acc_forK.append(accuracy(test_labs, gauss.predict(Xtest)))\n",
        "xaxisK = [\"Linear\", \"Polynomial\", \"Gaussian\"]\n",
        "print(acc_forK)\n"
      ],
      "metadata": {
        "colab": {
          "base_uri": "https://localhost:8080/"
        },
        "id": "pDJ1X5BA0OZQ",
        "outputId": "f664e6ba-5af3-4c62-eb25-39f49766d7ad"
      },
      "execution_count": null,
      "outputs": [
        {
          "output_type": "stream",
          "name": "stdout",
          "text": [
            "[0.7393151712071983, 0.7438140464883779, 0.7425643589102724, 0.7428142964258935, 0.7428142964258935]\n",
            "[0.7438140464883779, 0.7373156710822294, 0.6830792301924519]\n"
          ]
        }
      ]
    },
    {
      "cell_type": "code",
      "source": [
        "import matplotlib.pyplot as plt\n",
        "plt.hist(Xtrain)\n",
        "plt.xlabel(\"TF-IDF Scores\")\n",
        "plt.ylabel(\"Counts\")\n",
        "plt.title(\"Distribution of TF-IDF Scores\")"
      ],
      "metadata": {
        "colab": {
          "base_uri": "https://localhost:8080/",
          "height": 312
        },
        "id": "dO2uURYD1bjp",
        "outputId": "4e33199e-e700-4f8e-fbc4-e38bfdcb9725"
      },
      "execution_count": null,
      "outputs": [
        {
          "output_type": "execute_result",
          "data": {
            "text/plain": [
              "Text(0.5, 1.0, 'Distribution of TF-IDF Scores')"
            ]
          },
          "metadata": {},
          "execution_count": 52
        },
        {
          "output_type": "display_data",
          "data": {
            "text/plain": [
              "<Figure size 432x288 with 1 Axes>"
            ],
            "image/png": "[encoded data removed]"
          },
          "metadata": {
            "needs_background": "light"
          }
        }
      ]
    },
    {
      "cell_type": "code",
      "source": [
        "plt.figure()\n",
        "plt.bar(xaxisK, acc_forK)\n",
        "plt.xlabel(\"Kernel\")\n",
        "plt.ylabel(\"Accuracy\")\n",
        "plt.title(\"Model Accuracies by Kernel Type\")\n",
        "plt.show()"
      ],
      "metadata": {
        "colab": {
          "base_uri": "https://localhost:8080/",
          "height": 295
        },
        "id": "hiNJSMHj2aIx",
        "outputId": "48d0b896-2901-45af-b2a4-9339329027ad"
      },
      "execution_count": null,
      "outputs": [
        {
          "output_type": "display_data",
          "data": {
            "text/plain": [
              "<Figure size 432x288 with 1 Axes>"
            ],
            "image/png": "[encoded data removed]"
          },
          "metadata": {
            "needs_background": "light"
          }
        }
      ]
    },
    {
      "cell_type": "code",
      "source": [
        "plt.figure()\n",
        "plt.plot(range(0,5), acc_forC)\n",
        "plt.xlabel(\"Sretch Parameter C\")\n",
        "plt.ylabel(\"Accuracy\")\n",
        "plt.title(\"Model Accuracies by Stretch Parameter\")\n",
        "plt.show()"
      ],
      "metadata": {
        "colab": {
          "base_uri": "https://localhost:8080/",
          "height": 295
        },
        "id": "T1v5CbAt2kMV",
        "outputId": "14e822bf-0da2-439a-f0d7-a89a35890183"
      },
      "execution_count": null,
      "outputs": [
        {
          "output_type": "display_data",
          "data": {
            "text/plain": [
              "<Figure size 432x288 with 1 Axes>"
            ],
            "image/png": "[encoded data removed]"
          },
          "metadata": {
            "needs_background": "light"
          }
        }
      ]
    },
    {
      "cell_type": "code",
      "source": [
        "print(\"Range of accuracies by C: \", max(acc_forC) - min(acc_forC))\n",
        "print(\"Range of accuracies by kernel: \", max(acc_forK) - min(acc_forK))"
      ],
      "metadata": {
        "colab": {
          "base_uri": "https://localhost:8080/"
        },
        "id": "1cGyFqWP9-t5",
        "outputId": "eb1c025b-fd70-4998-fb35-738a6982876c"
      },
      "execution_count": null,
      "outputs": [
        {
          "output_type": "stream",
          "name": "stdout",
          "text": [
            "Range of accuracies by C:  0.004498875281179648\n",
            "Range of accuracies by kernel:  0.06073481629592603\n"
          ]
        }
      ]
    }
  ],
  "metadata": {
    "kernelspec": {
      "display_name": "Python 3",
      "language": "python",
      "name": "python3"
    },
    "language_info": {
      "codemirror_mode": {
        "name": "ipython",
        "version": 3
      },
      "file_extension": ".py",
      "mimetype": "text/x-python",
      "name": "python",
      "nbconvert_exporter": "python",
      "pygments_lexer": "ipython3",
      "version": "3.8.5"
    },
    "colab": {
      "name": "Research Project - Sentiment Analysis NLP.ipynb",
      "provenance": [],
      "collapsed_sections": [
        "9CkRCTV2QCG4",
        "0pDPxiyH0jSg"
      ],
      "machine_shape": "hm"
    },
    "accelerator": "GPU"
  },
  "nbformat": 4,
  "nbformat_minor": 0
}